{
 "cells": [
  {
   "cell_type": "markdown",
   "metadata": {},
   "source": [
    "## Declaraciones if, else y elif\n",
    "Escribir uba lógica condicional que imprima una adveertencia si un asteroide se acerca a la Tierra demasiado rápido. La velocidad del asteroide varía dependiendo de lo cerca que esté del sol, y cualquier velocidad superior a 25 kilómetros por segundo (km/s) merece una advertencia.\n",
    "## Un asteroide se acerca, y viaja a una velocidad de 49 km/s."
   ]
  },
  {
   "cell_type": "code",
   "execution_count": 1,
   "metadata": {},
   "outputs": [
    {
     "name": "stdout",
     "output_type": "stream",
     "text": [
      "Un asteroide se acerca a una velocidad de:  49  km/s\n"
     ]
    }
   ],
   "source": [
    "# Añadir el código necesario para crear una variable que guarde la velocidad del asteroide.\n",
    "# Escribe una expresión de prueba para calcular si necesita una advertencia.\n",
    "# Agregue las instrucciones que se ejecutarán si la expresión de prueba es true o false.\n",
    "vel = 49\n",
    "if vel > 25:\n",
    "    print(\"Un asteroide se acerca a una velocidad de: \",vel,\" km/s\")\n",
    "else:\n",
    "    print(\"Mantener vigilada la velocidad del asteroide\")"
   ]
  },
  {
   "cell_type": "markdown",
   "metadata": {},
   "source": [
    "Si un asteroide entra en la atmósfera de la Tierra a una velocidad mayor o igual a 20 km/s, a veces produce un rayo de luz que se puede ver desde la Tierra."
   ]
  },
  {
   "cell_type": "code",
   "execution_count": 5,
   "metadata": {},
   "outputs": [
    {
     "name": "stdout",
     "output_type": "stream",
     "text": [
      "Ten un buen día\n"
     ]
    }
   ],
   "source": [
    "# Agrega el código para crear una variable para un asteroide que viaja a 19 km/s\n",
    "# Escribe varias expresiones de prueba para determinar si puedes ver el rayo de luz desde la tierra\n",
    "# Agrega las instrucciones que se ejecutarán si las expresiones de prueba son True o False\n",
    "vel = 19\n",
    "if vel > 20:\n",
    "    print(\"Busca una luz en el cielo, ¡Se acerca un asteroide!\")\n",
    "elif vel == 20:\n",
    "    print(\"Busca una luz en el cielo, ¡Se acerca un asteroide!\")\n",
    "else:\n",
    "    print(\"Ten un buen día\")"
   ]
  },
  {
   "cell_type": "markdown",
   "metadata": {},
   "source": [
    "Los asteroides de menos de 25 metros en su dimensión mpas grande probablemente se quemarán a medida que entren en la atmósfera de la Tierra.\n",
    "\n",
    "Si una pieza de un asteroide que es más grande que 25 metros pero más pequeña que 1000 metros golpeara la Tierre, causaría mucho daño.\n",
    "\n",
    "La velocidad del asteroide varía en función de lo cerca que esté del sol, y cualquier velocidad superior a 25 kilómetros por segundo (km/s) merece una advertencia.\n",
    "\n",
    "Si un asteroide entra en la atmósfera de la Tierra a una velocidad mayor o igual a 20 km/s, a veces produce un rayo de luz que se puede ver desde la Tierra."
   ]
  },
  {
   "cell_type": "code",
   "execution_count": 6,
   "metadata": {},
   "outputs": [
    {
     "name": "stdout",
     "output_type": "stream",
     "text": [
      "¡PELIGRO, Se acerca un asteroide a una velocidad de 25km/s y con una dimensión de 40m\n",
      "Busca una luz en el cielo, ¡Se acerca un asteroide!\n"
     ]
    }
   ],
   "source": [
    "# Agrega el código para crear nuevas variables para la velocidad y el tamaño del asteroide\n",
    "# Para probar el código, prueba con varias velocidades y tamaños\n",
    "# Escribe varias expresiones de prueba o combinaciones de expresiones de prueba para determinar qué mensaje se debe enviar a Tierra.\n",
    "vel = input(\"Ingresa la velocidad actual del asteroide: \")\n",
    "dimension = input(\"Ingresa la dimensión del asteroide: \")\n",
    "if int(vel) > 25 and int(dimension) > 25:\n",
    "    print(\"¡PELIGRO, Se acerca un asteroide a una velocidad de \" + vel + \"km/s y con una dimensión de \" + dimension + \"m\" )\n",
    "elif int(vel) >= 20 and int(dimension) > 25:\n",
    "    print(\"¡PELIGRO, Se acerca un asteroide a una velocidad de \" + vel + \"km/s y con una dimensión de \" + dimension + \"m\" )\n",
    "    print(\"Busca una luz en el cielo, ¡Se acerca un asteroide!\")\n",
    "elif int(vel) >= 20:\n",
    "    print(\"Busca una luz en el cielo, ¡Se acerca un asteroide!\")\n",
    "elif int(dimension) < 25:\n",
    "    print(\"Todo esta bien, ten un buen día\")\n",
    "else:\n",
    "    print(\"Todo esta bien, ten un buen día\")\n"
   ]
  }
 ],
 "metadata": {
  "interpreter": {
   "hash": "d00c76d5ac9828e2f44a9e3a74d91198f73e2b76a86fc66b3ab3f9290d02c8fe"
  },
  "kernelspec": {
   "display_name": "Python 3.10.2 64-bit",
   "language": "python",
   "name": "python3"
  },
  "language_info": {
   "codemirror_mode": {
    "name": "ipython",
    "version": 3
   },
   "file_extension": ".py",
   "mimetype": "text/x-python",
   "name": "python",
   "nbconvert_exporter": "python",
   "pygments_lexer": "ipython3",
   "version": "3.10.2"
  },
  "orig_nbformat": 4
 },
 "nbformat": 4,
 "nbformat_minor": 2
}
