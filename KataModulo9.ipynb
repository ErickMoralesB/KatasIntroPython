{
 "cells": [
  {
   "cell_type": "markdown",
   "metadata": {},
   "source": [
    "## Trabajar con argumentos en funciones\n"
   ]
  },
  {
   "cell_type": "code",
   "execution_count": 1,
   "metadata": {},
   "outputs": [],
   "source": [
    "# Función para leer 3 tanques de combustible y muestre el promedio\n",
    "def fuel_report(tank1, tank2, tank3):\n",
    "    average = (tank1 + tank2 + tank3)/3\n",
    "    report = f\"\"\"Fuel report:\n",
    "    First Tank: {tank1}%\n",
    "    Second Tank: {tank2}%\n",
    "    Third Tank: {tank3}%\n",
    "    Average: {average}%\n",
    "    \"\"\"\n",
    "    return report\n",
    "\n"
   ]
  },
  {
   "cell_type": "code",
   "execution_count": 2,
   "metadata": {},
   "outputs": [
    {
     "name": "stdout",
     "output_type": "stream",
     "text": [
      "Fuel report:\n",
      "    First Tank: 34%\n",
      "    Second Tank: 56%\n",
      "    Third Tank: 89%\n",
      "    Average: 59.666666666666664%\n",
      "    \n"
     ]
    }
   ],
   "source": [
    "# Llamamos a la función que genera el reporte print(funcion(tanque1, tanque2, tanque3))\n",
    "print(fuel_report(34, 56, 89))"
   ]
  },
  {
   "cell_type": "code",
   "execution_count": 6,
   "metadata": {},
   "outputs": [
    {
     "name": "stdout",
     "output_type": "stream",
     "text": [
      "70.0\n"
     ]
    }
   ],
   "source": [
    "# Función promedio\n",
    "def average(*args):\n",
    "    prom = sum(args)/len(args)\n",
    "    return prom\n",
    "print(average(76, 45, 89))"
   ]
  },
  {
   "cell_type": "code",
   "execution_count": 5,
   "metadata": {},
   "outputs": [
    {
     "name": "stdout",
     "output_type": "stream",
     "text": [
      "Fuel report:\n",
      "    First Tank: 56%\n",
      "    Second Tank: 78%\n",
      "    Third Tank: 23%\n",
      "    Average: 52.333333333333336%\n",
      "    \n"
     ]
    }
   ],
   "source": [
    "# Actualiza la función\n",
    "def fuel_report(tank1, tank2, tank3):\n",
    "    #average = (tank1 + tank2 + tank3)/3\n",
    "    report = f\"\"\"Fuel report:\n",
    "    First Tank: {tank1}%\n",
    "    Second Tank: {tank2}%\n",
    "    Third Tank: {tank3}%\n",
    "    Average: {average(tank1, tank2, tank3)}%\n",
    "    \"\"\"\n",
    "    return report\n",
    "print(fuel_report(56, 78, 23))"
   ]
  },
  {
   "cell_type": "markdown",
   "metadata": {},
   "source": [
    "## Trabajar con argumentos de palabras clave en funciones"
   ]
  },
  {
   "cell_type": "code",
   "execution_count": 7,
   "metadata": {},
   "outputs": [
    {
     "name": "stdout",
     "output_type": "stream",
     "text": [
      "\n",
      "  Destination: Moon\n",
      "  Travel time: 65 minutes\n",
      "  Fuel left: 500000 \n",
      "  \n"
     ]
    }
   ],
   "source": [
    "# Función con un informe preciso de la misión. Considera hora de prelanzamiento, tiempo de vuelo, destino, tanque externo y tanque interno\n",
    "def mission_report(pre_launch, flight_time, destination, internal_tank, external_tank):\n",
    "  print(f\"\"\"\n",
    "  Destination: {destination}\n",
    "  Travel time: {pre_launch + flight_time} minutes\n",
    "  Fuel left: {external_tank + internal_tank} \n",
    "  \"\"\")  \n",
    "  return\n",
    "\n",
    "mission_report(14, 51, \"Moon\", 300000, 200000)"
   ]
  },
  {
   "cell_type": "code",
   "execution_count": 9,
   "metadata": {},
   "outputs": [
    {
     "name": "stdout",
     "output_type": "stream",
     "text": [
      "\n",
      "  Destination: Moon\n",
      "  Travel time: 78 minutes\n",
      "  Fuel left: 500000 \n",
      "  \n"
     ]
    }
   ],
   "source": [
    "# Escribe tu nueva función de reporte\n",
    "def mission_report(destination, *minutes, **fuel_reservoirs):\n",
    "  print(f\"\"\"\n",
    "  Destination: {destination}\n",
    "  Travel time: {sum(minutes)} minutes\n",
    "  Fuel left: {sum(fuel_reservoirs.values())} \n",
    "  \"\"\")  \n",
    "  return\n",
    "\n",
    "mission_report(\"Moon\", 20, 43, 15, internal=300000, external=200000)"
   ]
  },
  {
   "cell_type": "code",
   "execution_count": 13,
   "metadata": {},
   "outputs": [
    {
     "name": "stdout",
     "output_type": "stream",
     "text": [
      "\n",
      "  Destination: Moon\n",
      "  Travel time: 78 minutes\n",
      "  Fuel left: 500000 gallons \n",
      "  internal tank: 300000 gallons left\n",
      "external tank: 200000 gallons left\n",
      "\n"
     ]
    }
   ],
   "source": [
    "def mission_report(destination, *minutes, **fuel_reservoirs):\n",
    "  report = f\"\"\"\n",
    "  Destination: {destination}\n",
    "  Travel time: {sum(minutes)} minutes\n",
    "  Fuel left: {sum(fuel_reservoirs.values())} gallons \n",
    "  \"\"\"\n",
    "  for tank, gallon in fuel_reservoirs.items():\n",
    "      report += f\"{tank} tank: {gallon} gallons left\\n\"  \n",
    "  return report\n",
    "\n",
    "print(mission_report(\"Moon\", 20, 43, 15, internal=300000, external=200000))"
   ]
  }
 ],
 "metadata": {
  "interpreter": {
   "hash": "d00c76d5ac9828e2f44a9e3a74d91198f73e2b76a86fc66b3ab3f9290d02c8fe"
  },
  "kernelspec": {
   "display_name": "Python 3.10.2 64-bit",
   "language": "python",
   "name": "python3"
  },
  "language_info": {
   "codemirror_mode": {
    "name": "ipython",
    "version": 3
   },
   "file_extension": ".py",
   "mimetype": "text/x-python",
   "name": "python",
   "nbconvert_exporter": "python",
   "pygments_lexer": "ipython3",
   "version": "3.10.2"
  },
  "orig_nbformat": 4
 },
 "nbformat": 4,
 "nbformat_minor": 2
}
